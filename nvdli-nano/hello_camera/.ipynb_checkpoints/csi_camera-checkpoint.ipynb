{
 "cells": [
  {
   "cell_type": "markdown",
   "metadata": {},
   "source": [
    "<center><img src=\"../images/DLI Header.png\" alt=\"Header\" style=\"width: 400px;\"/></center>"
   ]
  },
  {
   "cell_type": "markdown",
   "metadata": {},
   "source": [
    "# ハロー カメラ\n",
    "### CSI (Camera Serial Interface) カメラ"
   ]
  },
  {
   "cell_type": "markdown",
   "metadata": {},
   "source": [
    "このノートブックでは、カメラが期待通りに Jetson Nano で動作することを確認できます。事前に MIPI CSI カメラ ポートに カメラが接続されている必要があります。レンズ保護フィルムやカバーなど、カメラのレンズに障害物がないことを確認してください。"
   ]
  },
  {
   "cell_type": "markdown",
   "metadata": {},
   "source": [
    "<center><img src=\"../images/csi_setup_sm.jpg\" width=600/></center>"
   ]
  },
  {
   "cell_type": "markdown",
   "metadata": {},
   "source": [
    "<div style=\"border:2px solid black; background-color:#e3ffb3; font-size:12px; padding:8px; margin-top: auto;\"><i>\n",
    "    <h4><i>ヒント</i></h4>\n",
    "コード セルで Python またはシステム コードを実行するには、セルを選択し、ウィンドウの上部にある \"Run (実行)\" ボタンをクリックします。<br>キーボード ショートカット： <strong>[SHIFT][ENTER]</strong>\n",
    "    </i></div>"
   ]
  },
  {
   "cell_type": "markdown",
   "metadata": {},
   "source": [
    "### デバイスの確認\n",
    "次のシステム コマンドを実行して、Jetson Nano 上のすべてのビデオ デバイスを一覧表示します。カメラのデバイス ID が表示されない場合は、接続を確認してください。次のような出力が得られるはずです。\n",
    "```text\n",
    "crw-rw----+ 1 root video 81, 0 Jun  2 17:35 /dev/video0\n",
    "```"
   ]
  },
  {
   "cell_type": "code",
   "execution_count": null,
   "metadata": {},
   "outputs": [],
   "source": [
    "!ls -ltrh /dev/video*"
   ]
  },
  {
   "cell_type": "markdown",
   "metadata": {},
   "source": [
    "### カメラ オブジェクトの作成\n",
    "\n",
    "はじめに、次の Python コード セルを実行してライブラリから `CSICamera` クラスをインポートし、カメラ オブジェクトを作成します。 `CSICamera` インスタンスは 1 つしか作成できないことに注意してください。"
   ]
  },
  {
   "cell_type": "code",
   "execution_count": null,
   "metadata": {},
   "outputs": [],
   "source": [
    "from jetcam.csi_camera import CSICamera\n",
    "\n",
    "camera = CSICamera(width=224, height=224)"
   ]
  },
  {
   "cell_type": "markdown",
   "metadata": {},
   "source": [
    "インスタンス作成後、 `read` メソッドを使用してカメラからフレームをキャプチャできます。  "
   ]
  },
  {
   "cell_type": "code",
   "execution_count": null,
   "metadata": {},
   "outputs": [],
   "source": [
    "image = camera.read()\n",
    "\n",
    "print(image.shape)"
   ]
  },
  {
   "cell_type": "markdown",
   "metadata": {},
   "source": [
    "`read` メソッドを呼び出すと、 `camera` インスタンスの `value` も更新されます。 value の`shape` を見ると、ピクセルの高さ、ピクセルの幅、カラー チャンネルの数を表す 3 つの数値が表示されます。"
   ]
  },
  {
   "cell_type": "code",
   "execution_count": null,
   "metadata": {},
   "outputs": [],
   "source": [
    "print(camera.value.shape)"
   ]
  },
  {
   "cell_type": "markdown",
   "metadata": {},
   "source": [
    "### 画像ストリーム表示用ウィジェットの作成\n",
    "ノートブックに画像を表示するための \"ウィジェット\" を作成します。画像を表示するには、画像を BGR8 形式からブラウザーが表示できる形式 (jpeg) に変換します。  "
   ]
  },
  {
   "cell_type": "code",
   "execution_count": null,
   "metadata": {},
   "outputs": [],
   "source": [
    "import ipywidgets\n",
    "from IPython.display import display\n",
    "from jetcam.utils import bgr8_to_jpeg\n",
    "\n",
    "image_widget = ipywidgets.Image(format='jpeg')\n",
    "\n",
    "image_widget.value = bgr8_to_jpeg(image)\n",
    "\n",
    "display(image_widget)"
   ]
  },
  {
   "cell_type": "markdown",
   "metadata": {},
   "source": [
    "すべてが正常に機能している場合は、カメラの画像が表示されます。ぼやけているか色が正しくない場合は、レンズに保護フィルムやキャップがないことを確認してください。  \n",
    "\n",
    "次に、カメラからのライブ ストリームを見てみましょう。バックグラウンドで値を継続的に更新するように、カメラの `running` 値を設定します。これにより、カメラ値の変更のための \"callbacks (コールバック)\" を使用できます。\n",
    "\n",
    "以下の `observe` メソッドを呼び出すことで `update_image` 関数が \"callbacks (コールバック)\" として登録されます。 `update_image` は、処理可能な新しいイメージが存在するたびに実行され、ウィジェットに表示されます。"
   ]
  },
  {
   "cell_type": "code",
   "execution_count": null,
   "metadata": {},
   "outputs": [],
   "source": [
    "camera.running = True\n",
    "\n",
    "def update_image(change):\n",
    "    image = change['new']\n",
    "    image_widget.value = bgr8_to_jpeg(image)\n",
    "    \n",
    "camera.observe(update_image, names='value')"
   ]
  },
  {
   "cell_type": "markdown",
   "metadata": {},
   "source": [
    "カメラの前で何かを動かすと、ウィジェットにライブ ビデオ ストリームが表示されます。停止するには、 `unobserve` メソッドでコールバックの登録を解除します。"
   ]
  },
  {
   "cell_type": "code",
   "execution_count": null,
   "metadata": {},
   "outputs": [],
   "source": [
    "camera.unobserve(update_image, names='value')"
   ]
  },
  {
   "cell_type": "markdown",
   "metadata": {},
   "source": [
    "<div style=\"border:2px solid black; background-color:#e3ffb3; font-size:12px; padding:8px; margin-top: auto;\"><i>\n",
    "    <h4><i>ヒント</i></h4>\n",
    "セルを右クリックして \"Create New View for Output\" を選択すると、ウィジェット (または任意のセル) を JupyterLab の新しいウィンドウ タブに移動できます。このようにして、 JupyterLab ノートブックを下にスクロールし続けても、カメラ ビューを表示することができます。\n",
    "    </i></div>"
   ]
  },
  {
   "cell_type": "markdown",
   "metadata": {},
   "source": [
    "### 画像ストリームを表示する別の方法\n",
    "traitlets `dlink` メソッドの transform パラメーターを使用して、カメラをウィジェットに接続することもできます。 これにより、プロセスのいくつかの手順が省略されます。"
   ]
  },
  {
   "cell_type": "code",
   "execution_count": null,
   "metadata": {},
   "outputs": [],
   "source": [
    "import traitlets\n",
    "\n",
    "camera_link = traitlets.dlink((camera, 'value'), (image_widget, 'value'), transform=bgr8_to_jpeg)"
   ]
  },
  {
   "cell_type": "markdown",
   "metadata": {},
   "source": [
    "`unlink` メソッドを使用して、カメラ／ウィジェットのリンクを削除できます。"
   ]
  },
  {
   "cell_type": "code",
   "execution_count": null,
   "metadata": {},
   "outputs": [],
   "source": [
    "camera_link.unlink()"
   ]
  },
  {
   "cell_type": "markdown",
   "metadata": {},
   "source": [
    "... `link` メソッドで再接続します。"
   ]
  },
  {
   "cell_type": "code",
   "execution_count": null,
   "metadata": {},
   "outputs": [],
   "source": [
    "camera_link.link()"
   ]
  },
  {
   "cell_type": "markdown",
   "metadata": {},
   "source": [
    "## このノートブックのカーネルをシャット ダウンして、カメラ リソースを解放する \n",
    "DLI コース ページに戻って、次の手順に進んでください。"
   ]
  },
  {
   "cell_type": "markdown",
   "metadata": {},
   "source": [
    "<div style=\"border:2px solid black; background-color:#e3ffb3; font-size:12px; padding:8px; margin-top: auto;\"><i>\n",
    "    <h4><i>ヒント</i></h4>\n",
    "<p>CSI カメラ、または USB カメラのインスタンスは、一度に 1 つか存在できません。新しいカメラ インスタンスを作成する場合は、まず既存のインスタンスをリリースする必要があります。これを行うには、JupyterLab プルダウン メニューからノートブックのカーネルをシャット ダウンします： <strong>Kernel->Shutdown Kernel</strong> 、それから <strong>Kernel->Restart Kernel</strong> で再起動します。</p>\n",
    "    <p>カメラが動作しない、または画像がフリーズした場合は、次の手順を実行します：\n",
    "    <ol><li>上記の説明に従って、ノートブック カーネルをシャット ダウンします。</li>\n",
    "        <li>\"Launch\" ページの \"Terminal\" アイコンをクリックして、Jetson Nano でターミナルを開きます。</li>\n",
    "        <li>ターミナル ウィンドウで次のコマンドを入力します：<code>sudo systemctl restart nvargus-daemon</code> パスワードは：<code>dlinano</code> です。</li>\n",
    "    </ol>\n",
    "    </i></div>"
   ]
  },
  {
   "cell_type": "markdown",
   "metadata": {},
   "source": [
    "<center><img src=\"../images/DLI Header.png\" alt=\"Header\" style=\"width: 400px;\"/></center>"
   ]
  }
 ],
 "metadata": {
  "kernelspec": {
   "display_name": "Python 3",
   "language": "python",
   "name": "python3"
  },
  "language_info": {
   "codemirror_mode": {
    "name": "ipython",
    "version": 3
   },
   "file_extension": ".py",
   "mimetype": "text/x-python",
   "name": "python",
   "nbconvert_exporter": "python",
   "pygments_lexer": "ipython3",
   "version": "3.6.5"
  }
 },
 "nbformat": 4,
 "nbformat_minor": 2
}
